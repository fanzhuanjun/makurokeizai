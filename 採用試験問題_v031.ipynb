{
 "cells": [
  {
   "cell_type": "markdown",
   "metadata": {},
   "source": [
    "# memo\n",
    "\n",
    "## 概要\n",
    "- date: 2020/12/01\n",
    "- author: kmms\n",
    "\n",
    "## 想定ディレクトリ構成\n",
    "- 試験者提供資料v03/input_t/\n",
    "    - 21_train_data.csv\n",
    "- 試験者提供資料v03/input_s/\n",
    "    - 31_goinsight_data_s_(yyyymmdd).csv\n",
    "- /\n",
    "    - 採用試験問題_v03.ipynb"
   ]
  },
  {
   "cell_type": "markdown",
   "metadata": {},
   "source": [
    "# Load modules"
   ]
  },
  {
   "cell_type": "code",
   "execution_count": 2,
   "metadata": {},
   "outputs": [],
   "source": [
    "import numpy as np\n",
    "import pandas as pd\n",
    "import matplotlib.pyplot as plt"
   ]
  },
  {
   "cell_type": "markdown",
   "metadata": {},
   "source": [
    "# ファイル読み取り"
   ]
  },
  {
   "cell_type": "code",
   "execution_count": 7,
   "metadata": {},
   "outputs": [],
   "source": [
    "input_dir = \"c:/pwork/試験者提供資料v03\"\n",
    "train_df = pd.read_csv(input_dir + \"/input_t/21_train_data.csv\", encoding=\"Shift-JIS\")"
   ]
  },
  {
   "cell_type": "markdown",
   "metadata": {},
   "source": [
    "# 自販機購買行動判定コンペ問題（４５分）"
   ]
  },
  {
   "cell_type": "markdown",
   "metadata": {},
   "source": [
    "## 【問題①】\n",
    "「21_train_data.csv」データクレンジングをして下さい。  "
   ]
  },
  {
   "cell_type": "markdown",
   "metadata": {},
   "source": [
    "#### 【問題①‐１】human_idカラムがユニークであることを確認してください。重複している場合はその行を削除してください。"
   ]
  },
  {
   "cell_type": "code",
   "execution_count": 10,
   "metadata": {
    "scrolled": false
   },
   "outputs": [
    {
     "data": {
      "text/plain": [
       "2018/12/26-020142    2\n",
       "2018/12/21-020081    1\n",
       "2018/12/20-020032    1\n",
       "2018/12/20-010064    1\n",
       "2018/12/20-020110    1\n",
       "                    ..\n",
       "2018/12/17-020114    1\n",
       "2018/12/27-010051    1\n",
       "2018/12/21-020079    1\n",
       "2018/12/21-020061    1\n",
       "2018/12/19-010103    1\n",
       "Name: human_id, Length: 1343, dtype: int64"
      ]
     },
     "execution_count": 10,
     "metadata": {},
     "output_type": "execute_result"
    }
   ],
   "source": [
    "train_df['human_id'].value_counts()\n",
    "# 2018/12/26-020142重複"
   ]
  },
  {
   "cell_type": "code",
   "execution_count": 14,
   "metadata": {},
   "outputs": [
    {
     "data": {
      "text/plain": [
       "(1345, 11)"
      ]
     },
     "execution_count": 14,
     "metadata": {},
     "output_type": "execute_result"
    }
   ],
   "source": [
    "train_df.shape"
   ]
  },
  {
   "cell_type": "code",
   "execution_count": 12,
   "metadata": {},
   "outputs": [],
   "source": [
    "train_df2 = train_df.drop_duplicates(subset='human_id')"
   ]
  },
  {
   "cell_type": "code",
   "execution_count": 13,
   "metadata": {},
   "outputs": [
    {
     "data": {
      "text/plain": [
       "(1344, 11)"
      ]
     },
     "execution_count": 13,
     "metadata": {},
     "output_type": "execute_result"
    }
   ],
   "source": [
    "train_df2.shape"
   ]
  },
  {
   "cell_type": "markdown",
   "metadata": {},
   "source": [
    "#### 【問題①‐２】「human_id」カラムの空欄（null）の存在を確認し、存在する場合にはそのレコードを削除してください。"
   ]
  },
  {
   "cell_type": "code",
   "execution_count": 17,
   "metadata": {},
   "outputs": [
    {
     "data": {
      "text/plain": [
       "1"
      ]
     },
     "execution_count": 17,
     "metadata": {},
     "output_type": "execute_result"
    }
   ],
   "source": [
    "train_df['human_id'].isnull().sum()"
   ]
  },
  {
   "cell_type": "code",
   "execution_count": 25,
   "metadata": {},
   "outputs": [],
   "source": [
    "train_df = train_df[~train_df['human_id'].isnull()]"
   ]
  },
  {
   "cell_type": "markdown",
   "metadata": {},
   "source": [
    "#### 【問題①‐３】「from_areain_to_buy_time」「price」カラムのデータ型をintgerへ変更してください。"
   ]
  },
  {
   "cell_type": "code",
   "execution_count": 26,
   "metadata": {
    "scrolled": true
   },
   "outputs": [
    {
     "name": "stdout",
     "output_type": "stream",
     "text": [
      "<class 'pandas.core.frame.DataFrame'>\n",
      "Int64Index: 1344 entries, 0 to 1344\n",
      "Data columns (total 11 columns):\n",
      " #   Column                   Non-Null Count  Dtype  \n",
      "---  ------                   --------------  -----  \n",
      " 0   human_id                 1344 non-null   object \n",
      " 1   buy_behavior             1344 non-null   object \n",
      " 2   gendar_label             1344 non-null   object \n",
      " 3   age_label                1344 non-null   object \n",
      " 4   buy_date                 1344 non-null   object \n",
      " 5   buy_time                 1344 non-null   object \n",
      " 6   from_areain_to_buy_time  1344 non-null   float64\n",
      " 7   price                    1344 non-null   object \n",
      " 8   cold_hot                 1344 non-null   object \n",
      " 9   category_l               1344 non-null   object \n",
      " 10  edy_cash                 1343 non-null   object \n",
      "dtypes: float64(1), object(10)\n",
      "memory usage: 126.0+ KB\n"
     ]
    }
   ],
   "source": [
    "train_df.info()"
   ]
  },
  {
   "cell_type": "code",
   "execution_count": 31,
   "metadata": {
    "scrolled": true
   },
   "outputs": [
    {
     "name": "stderr",
     "output_type": "stream",
     "text": [
      "<ipython-input-31-cda08f4a3080>:1: SettingWithCopyWarning: \n",
      "A value is trying to be set on a copy of a slice from a DataFrame.\n",
      "Try using .loc[row_indexer,col_indexer] = value instead\n",
      "\n",
      "See the caveats in the documentation: https://pandas.pydata.org/pandas-docs/stable/user_guide/indexing.html#returning-a-view-versus-a-copy\n",
      "  train_df['from_areain_to_buy_time'] = train_df['from_areain_to_buy_time'].astype('int8')\n"
     ]
    }
   ],
   "source": [
    "train_df['from_areain_to_buy_time'] = train_df['from_areain_to_buy_time'].astype('int8')"
   ]
  },
  {
   "cell_type": "code",
   "execution_count": 37,
   "metadata": {},
   "outputs": [
    {
     "name": "stderr",
     "output_type": "stream",
     "text": [
      "<ipython-input-37-dd12d813e8d4>:1: SettingWithCopyWarning: \n",
      "A value is trying to be set on a copy of a slice from a DataFrame.\n",
      "Try using .loc[row_indexer,col_indexer] = value instead\n",
      "\n",
      "See the caveats in the documentation: https://pandas.pydata.org/pandas-docs/stable/user_guide/indexing.html#returning-a-view-versus-a-copy\n",
      "  train_df['price'] = train_df['price'].replace('ゼロ', 0)\n"
     ]
    }
   ],
   "source": [
    "train_df['price'] = train_df['price'].replace('ゼロ', 0)"
   ]
  },
  {
   "cell_type": "code",
   "execution_count": 38,
   "metadata": {},
   "outputs": [
    {
     "data": {
      "text/html": [
       "<div>\n",
       "<style scoped>\n",
       "    .dataframe tbody tr th:only-of-type {\n",
       "        vertical-align: middle;\n",
       "    }\n",
       "\n",
       "    .dataframe tbody tr th {\n",
       "        vertical-align: top;\n",
       "    }\n",
       "\n",
       "    .dataframe thead th {\n",
       "        text-align: right;\n",
       "    }\n",
       "</style>\n",
       "<table border=\"1\" class=\"dataframe\">\n",
       "  <thead>\n",
       "    <tr style=\"text-align: right;\">\n",
       "      <th></th>\n",
       "      <th>human_id</th>\n",
       "      <th>buy_behavior</th>\n",
       "      <th>gendar_label</th>\n",
       "      <th>age_label</th>\n",
       "      <th>buy_date</th>\n",
       "      <th>buy_time</th>\n",
       "      <th>from_areain_to_buy_time</th>\n",
       "      <th>price</th>\n",
       "      <th>cold_hot</th>\n",
       "      <th>category_l</th>\n",
       "      <th>edy_cash</th>\n",
       "    </tr>\n",
       "  </thead>\n",
       "  <tbody>\n",
       "  </tbody>\n",
       "</table>\n",
       "</div>"
      ],
      "text/plain": [
       "Empty DataFrame\n",
       "Columns: [human_id, buy_behavior, gendar_label, age_label, buy_date, buy_time, from_areain_to_buy_time, price, cold_hot, category_l, edy_cash]\n",
       "Index: []"
      ]
     },
     "execution_count": 38,
     "metadata": {},
     "output_type": "execute_result"
    }
   ],
   "source": [
    "train_df[train_df['price'] == 'ゼロ']"
   ]
  },
  {
   "cell_type": "code",
   "execution_count": 39,
   "metadata": {},
   "outputs": [
    {
     "data": {
      "text/plain": [
       "0         0\n",
       "1       110\n",
       "2      -116\n",
       "3       110\n",
       "4       110\n",
       "       ... \n",
       "1340    110\n",
       "1341    110\n",
       "1342     90\n",
       "1343    100\n",
       "1344    110\n",
       "Name: price, Length: 1344, dtype: int8"
      ]
     },
     "execution_count": 39,
     "metadata": {},
     "output_type": "execute_result"
    }
   ],
   "source": [
    "train_df['price'].astype('int8')"
   ]
  },
  {
   "cell_type": "markdown",
   "metadata": {},
   "source": [
    "## 【問題②】\n",
    "クライアントから自販機購買客の購入までの時間(from_areain_to_buy_time)について分析してほしいという依頼がありました。あなたは分析の初期段階として、年代別の購入までの時間について分析を実施することにしました。以下1~3の流れにそって「21_train_data.csv」の分析を実施してください。"
   ]
  },
  {
   "cell_type": "markdown",
   "metadata": {},
   "source": [
    "#### 【問題②‐１】\n",
    "年代別の購入までの時間をグラフにプロットしてください。グラフの形式は指定しないので、分かりやすいと思うグラフの種類を選択しプロットしてください。"
   ]
  },
  {
   "cell_type": "code",
   "execution_count": 52,
   "metadata": {},
   "outputs": [
    {
     "data": {
      "text/plain": [
       "<BarContainer object of 5 artists>"
      ]
     },
     "execution_count": 52,
     "metadata": {},
     "output_type": "execute_result"
    },
    {
     "name": "stderr",
     "output_type": "stream",
     "text": [
      "c:\\users\\13631\\appdata\\local\\programs\\python\\python38\\lib\\site-packages\\matplotlib\\backends\\backend_agg.py:238: RuntimeWarning: Glyph 20195 missing from current font.\n",
      "  font.set_text(s, 0.0, flags=flags)\n",
      "c:\\users\\13631\\appdata\\local\\programs\\python\\python38\\lib\\site-packages\\matplotlib\\backends\\backend_agg.py:201: RuntimeWarning: Glyph 20195 missing from current font.\n",
      "  font.set_text(s, 0, flags=flags)\n"
     ]
    },
    {
     "data": {
      "image/png": "[encoded data removed]",
      "text/plain": [
       "<Figure size 432x288 with 1 Axes>"
      ]
     },
     "metadata": {
      "needs_background": "light"
     },
     "output_type": "display_data"
    }
   ],
   "source": [
    "a = train_df.groupby('age_label')['from_areain_to_buy_time'].mean()\n",
    "plt.bar(x=a.index, height=a.values)"
   ]
  },
  {
   "cell_type": "code",
   "execution_count": 53,
   "metadata": {},
   "outputs": [
    {
     "data": {
      "text/plain": [
       "[<matplotlib.lines.Line2D at 0x1b8e0d08e50>]"
      ]
     },
     "execution_count": 53,
     "metadata": {},
     "output_type": "execute_result"
    },
    {
     "data": {
      "image/png": "[encoded data removed]",
      "text/plain": [
       "<Figure size 432x288 with 1 Axes>"
      ]
     },
     "metadata": {
      "needs_background": "light"
     },
     "output_type": "display_data"
    }
   ],
   "source": [
    "plt.plot(a)"
   ]
  },
  {
   "cell_type": "markdown",
   "metadata": {},
   "source": [
    "#### 【問題②‐２】\n",
    "【問題②‐１】の結果、60代の購入までの時間が長く、20代の購入までの時間が短いことが分かりました。あなたはその要因として、以下の仮説を立てました。  \n",
    "仮説：「年代ごとbuy_behaviorの比率の違いにより、購入までの時間に差が出ている」  \n",
    "(buy_behavior: 1.商品決め打ち / 2.VM決め打ち／VM内で商品比較 / 4.複数VMで比較)  \n",
    "この仮説を確かめるために必要だと思う分析を実施してください。時間に余裕があれば、数値を算出するだけではなくグラフもプロットしてください。"
   ]
  },
  {
   "cell_type": "code",
   "execution_count": 64,
   "metadata": {},
   "outputs": [
    {
     "data": {
      "text/html": [
       "<div>\n",
       "<style scoped>\n",
       "    .dataframe tbody tr th:only-of-type {\n",
       "        vertical-align: middle;\n",
       "    }\n",
       "\n",
       "    .dataframe tbody tr th {\n",
       "        vertical-align: top;\n",
       "    }\n",
       "\n",
       "    .dataframe thead th {\n",
       "        text-align: right;\n",
       "    }\n",
       "</style>\n",
       "<table border=\"1\" class=\"dataframe\">\n",
       "  <thead>\n",
       "    <tr style=\"text-align: right;\">\n",
       "      <th></th>\n",
       "      <th></th>\n",
       "      <th>buy_behavior</th>\n",
       "    </tr>\n",
       "    <tr>\n",
       "      <th>age_label</th>\n",
       "      <th>buy_behavior</th>\n",
       "      <th></th>\n",
       "    </tr>\n",
       "  </thead>\n",
       "  <tbody>\n",
       "    <tr>\n",
       "      <th rowspan=\"3\" valign=\"top\">20代</th>\n",
       "      <th>4.複数VMで比較</th>\n",
       "      <td>0.600000</td>\n",
       "    </tr>\n",
       "    <tr>\n",
       "      <th>1.商品決め打ち</th>\n",
       "      <td>0.300000</td>\n",
       "    </tr>\n",
       "    <tr>\n",
       "      <th>2.VM決め打ち／VM内で商品比較</th>\n",
       "      <td>0.100000</td>\n",
       "    </tr>\n",
       "    <tr>\n",
       "      <th rowspan=\"3\" valign=\"top\">30代</th>\n",
       "      <th>1.商品決め打ち</th>\n",
       "      <td>0.544218</td>\n",
       "    </tr>\n",
       "    <tr>\n",
       "      <th>4.複数VMで比較</th>\n",
       "      <td>0.346939</td>\n",
       "    </tr>\n",
       "    <tr>\n",
       "      <th>2.VM決め打ち／VM内で商品比較</th>\n",
       "      <td>0.108844</td>\n",
       "    </tr>\n",
       "    <tr>\n",
       "      <th rowspan=\"3\" valign=\"top\">40代</th>\n",
       "      <th>1.商品決め打ち</th>\n",
       "      <td>0.609959</td>\n",
       "    </tr>\n",
       "    <tr>\n",
       "      <th>4.複数VMで比較</th>\n",
       "      <td>0.307054</td>\n",
       "    </tr>\n",
       "    <tr>\n",
       "      <th>2.VM決め打ち／VM内で商品比較</th>\n",
       "      <td>0.082988</td>\n",
       "    </tr>\n",
       "    <tr>\n",
       "      <th rowspan=\"3\" valign=\"top\">50代</th>\n",
       "      <th>1.商品決め打ち</th>\n",
       "      <td>0.537849</td>\n",
       "    </tr>\n",
       "    <tr>\n",
       "      <th>4.複数VMで比較</th>\n",
       "      <td>0.390438</td>\n",
       "    </tr>\n",
       "    <tr>\n",
       "      <th>2.VM決め打ち／VM内で商品比較</th>\n",
       "      <td>0.071713</td>\n",
       "    </tr>\n",
       "    <tr>\n",
       "      <th rowspan=\"3\" valign=\"top\">60代</th>\n",
       "      <th>1.商品決め打ち</th>\n",
       "      <td>0.515152</td>\n",
       "    </tr>\n",
       "    <tr>\n",
       "      <th>4.複数VMで比較</th>\n",
       "      <td>0.393939</td>\n",
       "    </tr>\n",
       "    <tr>\n",
       "      <th>2.VM決め打ち／VM内で商品比較</th>\n",
       "      <td>0.090909</td>\n",
       "    </tr>\n",
       "  </tbody>\n",
       "</table>\n",
       "</div>"
      ],
      "text/plain": [
       "                             buy_behavior\n",
       "age_label buy_behavior                   \n",
       "20代       4.複数VMで比較              0.600000\n",
       "          1.商品決め打ち               0.300000\n",
       "          2.VM決め打ち／VM内で商品比較      0.100000\n",
       "30代       1.商品決め打ち               0.544218\n",
       "          4.複数VMで比較              0.346939\n",
       "          2.VM決め打ち／VM内で商品比較      0.108844\n",
       "40代       1.商品決め打ち               0.609959\n",
       "          4.複数VMで比較              0.307054\n",
       "          2.VM決め打ち／VM内で商品比較      0.082988\n",
       "50代       1.商品決め打ち               0.537849\n",
       "          4.複数VMで比較              0.390438\n",
       "          2.VM決め打ち／VM内で商品比較      0.071713\n",
       "60代       1.商品決め打ち               0.515152\n",
       "          4.複数VMで比較              0.393939\n",
       "          2.VM決め打ち／VM内で商品比較      0.090909"
      ]
     },
     "execution_count": 64,
     "metadata": {},
     "output_type": "execute_result"
    }
   ],
   "source": [
    "a = train_df.groupby('age_label')['buy_behavior'].value_counts(normalize=True, )\n",
    "aa = pd.DataFrame(a)\n",
    "aa"
   ]
  },
  {
   "cell_type": "markdown",
   "metadata": {},
   "source": [
    "#### 【問題②‐３】\n",
    "【問題②‐２】の分析の結果から言えることを、以下の①、②から選択してください。  \n",
    "①仮説は正しそうだ  \n",
    "②仮説は正しくなさそうだ"
   ]
  },
  {
   "cell_type": "code",
   "execution_count": null,
   "metadata": {},
   "outputs": [],
   "source": []
  },
  {
   "cell_type": "code",
   "execution_count": null,
   "metadata": {},
   "outputs": [],
   "source": []
  },
  {
   "cell_type": "markdown",
   "metadata": {},
   "source": [
    "## 【問題③】\n",
    "human_id毎の滞在時間を計算してください。"
   ]
  },
  {
   "cell_type": "markdown",
   "metadata": {},
   "source": [
    "#### 【問題③‐１】\n",
    "「31_goinsight_data_s_201912XX」８ファイルを縦に結合し1つのテーブルにして下さい。"
   ]
  },
  {
   "cell_type": "code",
   "execution_count": 66,
   "metadata": {},
   "outputs": [],
   "source": [
    "path = [\n",
    "    \"C:/pwork/試験者提供資料v03/input_s/31_goinsight_data_s_20191217.csv\",\n",
    "    \"C:/pwork/試験者提供資料v03/input_s/31_goinsight_data_s_20191218.csv\",\n",
    "    \"C:/pwork/試験者提供資料v03/input_s/31_goinsight_data_s_20191219.csv\",\n",
    "    \"C:/pwork/試験者提供資料v03/input_s/31_goinsight_data_s_20191220.csv\",\n",
    "    \"C:/pwork/試験者提供資料v03/input_s/31_goinsight_data_s_20191221.csv\",\n",
    "    \"C:/pwork/試験者提供資料v03/input_s/31_goinsight_data_s_20191225.csv\",\n",
    "    \"C:/pwork/試験者提供資料v03/input_s/31_goinsight_data_s_20191226.csv\",\n",
    "    \"C:/pwork/試験者提供資料v03/input_s/31_goinsight_data_s_20191227.csv\",\n",
    "]\n",
    "\n",
    "def readCsv(path):\n",
    "    return pd.read_csv(path, encoding=\"Shift-JIS\")"
   ]
  },
  {
   "cell_type": "code",
   "execution_count": 67,
   "metadata": {},
   "outputs": [],
   "source": [
    "map_list = map(readCsv, path)\n",
    "df = pd.concat(map_list)"
   ]
  },
  {
   "cell_type": "code",
   "execution_count": 68,
   "metadata": {},
   "outputs": [
    {
     "data": {
      "text/plain": [
       "(9769, 7)"
      ]
     },
     "execution_count": 68,
     "metadata": {},
     "output_type": "execute_result"
    }
   ],
   "source": [
    "df.shape"
   ]
  },
  {
   "cell_type": "markdown",
   "metadata": {},
   "source": [
    "#### 【問題③‐２】\n",
    "滞在時間をhuman_idごとに計算してください。  \n",
    "ただし、滞在時間は以下の通り求められるものとします。  \n",
    " - 滞在時間 ＝ エリアアウト（event_datetime）― エリアイン（event_datetime）  \n",
    " ※human_idにつき1滞在時間となるように計算してして下さい。複数回エリアインとエリアアウトを繰り返す場合は最初のエリアインと最後のエリアアウトを使用するもとします。"
   ]
  },
  {
   "cell_type": "code",
   "execution_count": 83,
   "metadata": {},
   "outputs": [],
   "source": [
    "jinlai = df[df['event_name'] == 'エリアイン']\n",
    "chuqu = df[df['event_name'] == 'エリアアウト'][['human_id', 'event_datetime']]"
   ]
  },
  {
   "cell_type": "code",
   "execution_count": 84,
   "metadata": {},
   "outputs": [
    {
     "name": "stdout",
     "output_type": "stream",
     "text": [
      "(3825, 7) (3823, 2)\n"
     ]
    }
   ],
   "source": [
    "print((jinlai.shape), (chuqu.shape))"
   ]
  },
  {
   "cell_type": "code",
   "execution_count": 85,
   "metadata": {},
   "outputs": [],
   "source": [
    "jinlai2 = jinlai.drop_duplicates(subset='human_id', keep='first')\n",
    "chuqu2 = chuqu.drop_duplicates(subset='human_id', keep='last')"
   ]
  },
  {
   "cell_type": "code",
   "execution_count": null,
   "metadata": {},
   "outputs": [],
   "source": []
  },
  {
   "cell_type": "code",
   "execution_count": 86,
   "metadata": {},
   "outputs": [
    {
     "name": "stdout",
     "output_type": "stream",
     "text": [
      "(2325, 7) (2323, 2)\n"
     ]
    }
   ],
   "source": [
    "print((jinlai2.shape), (chuqu2.shape))"
   ]
  },
  {
   "cell_type": "code",
   "execution_count": 87,
   "metadata": {},
   "outputs": [],
   "source": [
    "df02 = pd.merge(jinlai2, chuqu2, on='human_id')"
   ]
  },
  {
   "cell_type": "code",
   "execution_count": 88,
   "metadata": {
    "scrolled": true
   },
   "outputs": [
    {
     "data": {
      "text/plain": [
       "(2323, 8)"
      ]
     },
     "execution_count": 88,
     "metadata": {},
     "output_type": "execute_result"
    }
   ],
   "source": [
    "df02.shape"
   ]
  },
  {
   "cell_type": "code",
   "execution_count": 92,
   "metadata": {},
   "outputs": [],
   "source": [
    "df02['event_datetime_y'] = pd.to_datetime(df02['event_datetime_y'])\n",
    "df02['event_datetime_x'] = pd.to_datetime(df02['event_datetime_x'])"
   ]
  },
  {
   "cell_type": "code",
   "execution_count": 93,
   "metadata": {},
   "outputs": [],
   "source": [
    "df02['from_areain_to_buy_time'] = (df02['event_datetime_y'] - df02['event_datetime_x'])"
   ]
  },
  {
   "cell_type": "code",
   "execution_count": 98,
   "metadata": {},
   "outputs": [
    {
     "data": {
      "text/plain": [
       "0       19\n",
       "1       27\n",
       "2       32\n",
       "3        9\n",
       "4       71\n",
       "        ..\n",
       "2318    27\n",
       "2319    34\n",
       "2320     5\n",
       "2321    32\n",
       "2322    18\n",
       "Name: from_areain_to_buy_time, Length: 2323, dtype: int32"
      ]
     },
     "execution_count": 98,
     "metadata": {},
     "output_type": "execute_result"
    }
   ],
   "source": [
    "df02['from_areain_to_buy_time'].astype('timedelta64[s]').astype(int)"
   ]
  },
  {
   "cell_type": "markdown",
   "metadata": {},
   "source": [
    "# 統計量・数理モデル知識問題（１０分）"
   ]
  },
  {
   "cell_type": "markdown",
   "metadata": {},
   "source": [
    "#### 【統計量知識試験】\n",
    "図１（左図）のヒストグラムに対応する箱ひげ図を図２（右図）の⓪～⑦のうちから一つ選べ。"
   ]
  },
  {
   "cell_type": "code",
   "execution_count": null,
   "metadata": {},
   "outputs": [],
   "source": []
  },
  {
   "cell_type": "markdown",
   "metadata": {},
   "source": [
    "#### 【数理モデル試験】\n",
    "モデル1 と モデル2 は, 次に示す データ に対し2種類の手法を用いて\u000b",
    "回帰を行った予測式である.  \n",
    "これに関して, 2種類の手法の名称として最も適切なものを\u000b",
    "それぞれ次の選択肢 (ア)～(コ) から選べ."
   ]
  },
  {
   "cell_type": "markdown",
   "metadata": {},
   "source": [
    "#### モデル1の回答"
   ]
  },
  {
   "cell_type": "code",
   "execution_count": null,
   "metadata": {},
   "outputs": [],
   "source": []
  },
  {
   "cell_type": "markdown",
   "metadata": {},
   "source": [
    "#### モデル2の回答"
   ]
  },
  {
   "cell_type": "code",
   "execution_count": null,
   "metadata": {},
   "outputs": [],
   "source": []
  }
 ],
 "metadata": {
  "kernelspec": {
   "display_name": "Python 3",
   "language": "python",
   "name": "python3"
  },
  "language_info": {
   "codemirror_mode": {
    "name": "ipython",
    "version": 3
   },
   "file_extension": ".py",
   "mimetype": "text/x-python",
   "name": "python",
   "nbconvert_exporter": "python",
   "pygments_lexer": "ipython3",
   "version": "3.8.3"
  },
  "toc": {
   "base_numbering": 1,
   "nav_menu": {},
   "number_sections": true,
   "sideBar": true,
   "skip_h1_title": false,
   "title_cell": "Table of Contents",
   "title_sidebar": "Contents",
   "toc_cell": false,
   "toc_position": {},
   "toc_section_display": true,
   "toc_window_display": true
  },
  "varInspector": {
   "cols": {
    "lenName": 16,
    "lenType": 16,
    "lenVar": 40
   },
   "kernels_config": {
    "python": {
     "delete_cmd_postfix": "",
     "delete_cmd_prefix": "del ",
     "library": "var_list.py",
     "varRefreshCmd": "print(var_dic_list())"
    },
    "r": {
     "delete_cmd_postfix": ") ",
     "delete_cmd_prefix": "rm(",
     "library": "var_list.r",
     "varRefreshCmd": "cat(var_dic_list()) "
    }
   },
   "types_to_exclude": [
    "module",
    "function",
    "builtin_function_or_method",
    "instance",
    "_Feature"
   ],
   "window_display": false
  }
 },
 "nbformat": 4,
 "nbformat_minor": 4
}
